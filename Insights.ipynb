{
 "cells": [
  {
   "cell_type": "markdown",
   "id": "52b2eebb-5d49-4f50-aa28-0f4f0ea3a253",
   "metadata": {},
   "source": [
    "                                                LOADING THE DATA"
   ]
  },
  {
   "cell_type": "code",
   "execution_count": 1,
   "id": "b2ba62d2-6d38-4d8f-9cd8-0fad237bb6b7",
   "metadata": {},
   "outputs": [
    {
     "name": "stdout",
     "output_type": "stream",
     "text": [
      "                                             Address    Lot AM or PM  \\\n",
      "0  16629 Pace Camp Apt. 448\\r\\nAlexisborough, NE ...  46 in       PM   \n",
      "1  9374 Jasmine Spurs Suite 508\\r\\nSouth John, TN...  28 rn       PM   \n",
      "2                 Unit 0065 Box 5052\\r\\nDPO AP 27450  94 vE       PM   \n",
      "3            7780 Julia Fords\\r\\nNew Stacy, WA 45798  36 vm       PM   \n",
      "4  23012 Munoz Drive Suite 337\\r\\nNew Cynthia, TX...  20 IE       AM   \n",
      "\n",
      "                                        Browser Info  \\\n",
      "0  Opera/9.56.(X11; Linux x86_64; sl-SI) Presto/2...   \n",
      "1  Opera/8.93.(Windows 98; Win 9x 4.90; en-US) Pr...   \n",
      "2  Mozilla/5.0 (compatible; MSIE 9.0; Windows NT ...   \n",
      "3  Mozilla/5.0 (Macintosh; Intel Mac OS X 10_8_0 ...   \n",
      "4  Opera/9.58.(X11; Linux x86_64; it-IT) Presto/2...   \n",
      "\n",
      "                           Company   Credit Card CC Exp Date  \\\n",
      "0                  Martinez-Herman  6.010000e+15    02/20/22   \n",
      "1  Fletcher, Richards and Whitaker  3.340000e+15    11/18/22   \n",
      "2       Simpson, Williams and Pham  6.760000e+11    08/19/22   \n",
      "3  Williams, Marshall and Buchanan  6.010000e+15    02/24/22   \n",
      "4        Brown, Watson and Andrews  6.010000e+15    10/25/22   \n",
      "\n",
      "   CC Security Code                  CC Provider  \\\n",
      "0               900                 JCB 16 digit   \n",
      "1               561                   Mastercard   \n",
      "2               699                 JCB 16 digit   \n",
      "3               384                     Discover   \n",
      "4               678  Diners Club / Carte Blanche   \n",
      "\n",
      "                            Email                                     Job  \\\n",
      "0               pdunlap@yahoo.com  Scientist, product/process development   \n",
      "1              anthony41@reed.com                       Drilling engineer   \n",
      "2  amymiller@morales-harrison.com                Customer service manager   \n",
      "3     brent16@olson-robinson.info                       Drilling engineer   \n",
      "4     christopherwright@gmail.com                             Fine artist   \n",
      "\n",
      "        IP Address Language  Purchase Price  \n",
      "0  149.146.147.205       el           98.14  \n",
      "1     15.160.41.51       fr           70.73  \n",
      "2   132.207.160.22       de            0.95  \n",
      "3     30.250.74.19       es           78.04  \n",
      "4     24.140.33.94       es           77.82  \n",
      "<class 'pandas.core.frame.DataFrame'>\n",
      "RangeIndex: 10000 entries, 0 to 9999\n",
      "Data columns (total 14 columns):\n",
      " #   Column            Non-Null Count  Dtype  \n",
      "---  ------            --------------  -----  \n",
      " 0   Address           10000 non-null  object \n",
      " 1   Lot               10000 non-null  object \n",
      " 2   AM or PM          10000 non-null  object \n",
      " 3   Browser Info      10000 non-null  object \n",
      " 4   Company           10000 non-null  object \n",
      " 5   Credit Card       10000 non-null  float64\n",
      " 6   CC Exp Date       10000 non-null  object \n",
      " 7   CC Security Code  10000 non-null  int64  \n",
      " 8   CC Provider       10000 non-null  object \n",
      " 9   Email             10000 non-null  object \n",
      " 10  Job               10000 non-null  object \n",
      " 11  IP Address        10000 non-null  object \n",
      " 12  Language          10000 non-null  object \n",
      " 13  Purchase Price    10000 non-null  float64\n",
      "dtypes: float64(2), int64(1), object(11)\n",
      "memory usage: 1.1+ MB\n",
      "None\n"
     ]
    }
   ],
   "source": [
    "import pandas as pd\n",
    "\n",
    "# Load CSV\n",
    "df = pd.read_csv('Ecommerce_Purchases.csv')\n",
    "\n",
    "# Quick look at the data\n",
    "print(df.head())\n",
    "print(df.info())\n"
   ]
  },
  {
   "cell_type": "markdown",
   "id": "8ec75348-c167-4c88-8ec4-22fdb05e27d2",
   "metadata": {},
   "source": [
    "  "
   ]
  },
  {
   "cell_type": "markdown",
   "id": "0804c379-2b3f-4ccc-89a1-d683397359ef",
   "metadata": {},
   "source": [
    "                                             EXPLORE AND UNDERSTAND THE DATA"
   ]
  },
  {
   "cell_type": "code",
   "execution_count": 2,
   "id": "67a1cca6-c307-449d-9346-58a0583dea0e",
   "metadata": {},
   "outputs": [
    {
     "name": "stdout",
     "output_type": "stream",
     "text": [
      "                                        Address    Lot AM or PM  \\\n",
      "count                                     10000  10000    10000   \n",
      "unique                                    10000   9822        2   \n",
      "top     PSC 5678, Box 4503\\r\\nAPO AP 94998-5546  03 dn       PM   \n",
      "freq                                          1      2     5068   \n",
      "mean                                        NaN    NaN      NaN   \n",
      "std                                         NaN    NaN      NaN   \n",
      "min                                         NaN    NaN      NaN   \n",
      "25%                                         NaN    NaN      NaN   \n",
      "50%                                         NaN    NaN      NaN   \n",
      "75%                                         NaN    NaN      NaN   \n",
      "max                                         NaN    NaN      NaN   \n",
      "\n",
      "                                             Browser Info      Company  \\\n",
      "count                                               10000        10000   \n",
      "unique                                               8287         8653   \n",
      "top     Mozilla/5.0 (compatible; MSIE 8.0; Windows NT ...  Smith Group   \n",
      "freq                                                   12           15   \n",
      "mean                                                  NaN          NaN   \n",
      "std                                                   NaN          NaN   \n",
      "min                                                   NaN          NaN   \n",
      "25%                                                   NaN          NaN   \n",
      "50%                                                   NaN          NaN   \n",
      "75%                                                   NaN          NaN   \n",
      "max                                                   NaN          NaN   \n",
      "\n",
      "         Credit Card CC Exp Date  CC Security Code   CC Provider  \\\n",
      "count   1.000000e+04       10000      10000.000000         10000   \n",
      "unique           NaN         121               NaN            10   \n",
      "top              NaN    08/22/22               NaN  JCB 16 digit   \n",
      "freq             NaN         108               NaN          1716   \n",
      "mean    2.341443e+15         NaN        907.217800           NaN   \n",
      "std     2.255963e+15         NaN       1589.693035           NaN   \n",
      "min     6.040186e+10         NaN          0.000000           NaN   \n",
      "25%     3.060000e+13         NaN        280.000000           NaN   \n",
      "50%     8.700000e+14         NaN        548.000000           NaN   \n",
      "75%     4.490000e+15         NaN        816.000000           NaN   \n",
      "max     6.010000e+15         NaN       9993.000000           NaN   \n",
      "\n",
      "                        Email                            Job     IP Address  \\\n",
      "count                   10000                          10000          10000   \n",
      "unique                   9954                            623          10000   \n",
      "top     brownjohn@hotmail.com  Interior and spatial designer  245.22.66.225   \n",
      "freq                        2                             31              1   \n",
      "mean                      NaN                            NaN            NaN   \n",
      "std                       NaN                            NaN            NaN   \n",
      "min                       NaN                            NaN            NaN   \n",
      "25%                       NaN                            NaN            NaN   \n",
      "50%                       NaN                            NaN            NaN   \n",
      "75%                       NaN                            NaN            NaN   \n",
      "max                       NaN                            NaN            NaN   \n",
      "\n",
      "       Language  Purchase Price  \n",
      "count     10000    10000.000000  \n",
      "unique        9             NaN  \n",
      "top          de             NaN  \n",
      "freq       1155             NaN  \n",
      "mean        NaN       50.347302  \n",
      "std         NaN       29.015836  \n",
      "min         NaN        0.000000  \n",
      "25%         NaN       25.150000  \n",
      "50%         NaN       50.505000  \n",
      "75%         NaN       75.770000  \n",
      "max         NaN       99.990000  \n",
      "Address             0\n",
      "Lot                 0\n",
      "AM or PM            0\n",
      "Browser Info        0\n",
      "Company             0\n",
      "Credit Card         0\n",
      "CC Exp Date         0\n",
      "CC Security Code    0\n",
      "CC Provider         0\n",
      "Email               0\n",
      "Job                 0\n",
      "IP Address          0\n",
      "Language            0\n",
      "Purchase Price      0\n",
      "dtype: int64\n",
      "0\n"
     ]
    }
   ],
   "source": [
    "# Basic statistics\n",
    "print(df.describe(include='all'))\n",
    "\n",
    "# Check missing values\n",
    "print(df.isnull().sum())\n",
    "\n",
    "# Check for duplicates\n",
    "print(df.duplicated().sum())\n"
   ]
  },
  {
   "cell_type": "markdown",
   "id": "ec9f3121-63a7-483c-ba08-0faefefd9136",
   "metadata": {},
   "source": [
    "   "
   ]
  },
  {
   "cell_type": "markdown",
   "id": "51a45107-fa97-4918-b23d-e156155a9f9a",
   "metadata": {},
   "source": [
    "                                                      CLEAN THE DATA "
   ]
  },
  {
   "cell_type": "code",
   "execution_count": 3,
   "id": "9850e56b-0068-4de0-829e-a22156f3ace4",
   "metadata": {},
   "outputs": [],
   "source": [
    "# Remove duplicates\n",
    "df = df.drop_duplicates()\n",
    "\n",
    "# Handle missing values\n",
    "df = df.dropna()  # or use df.fillna() if imputation is better\n",
    "\n",
    "# Convert data types if needed\n",
    "# Example: convert date string to datetime\n",
    "if 'Purchase Time' in df.columns:\n",
    "    df['Purchase Time'] = pd.to_datetime(df['Purchase Time'])\n"
   ]
  },
  {
   "cell_type": "code",
   "execution_count": 4,
   "id": "b23d5921-8caf-4d42-bdf0-d8d84f5504d1",
   "metadata": {},
   "outputs": [],
   "source": [
    "if 'Purchase Time' in df.columns:\n",
    "    df['Hour'] = df['Purchase Time'].dt.hour\n",
    "    df['Day'] = df['Purchase Time'].dt.day_name()\n"
   ]
  },
  {
   "cell_type": "code",
   "execution_count": 7,
   "id": "1b49e3e9-5da8-4187-9ff6-54edae758498",
   "metadata": {},
   "outputs": [],
   "source": [
    "columns_to_drop = [\n",
    "    'Address', 'Lot', 'IP Address',\n",
    "    'Credit Card', 'CC Exp Date', 'CC Security Code'\n",
    "]\n",
    "df_cleaned = df.drop(columns=columns_to_drop)\n",
    "df_cleaned['Email'] = df_cleaned['Email'].str.strip().str.lower()\n",
    "df_cleaned.drop_duplicates(inplace=True)"
   ]
  },
  {
   "cell_type": "code",
   "execution_count": 15,
   "id": "4ad6148c-9ecc-45bd-bd0d-e322bb91bdbb",
   "metadata": {},
   "outputs": [],
   "source": [
    "df_cleaned.to_csv(\"Cleaned_Ecommerce_Purchases.csv\", index=False)"
   ]
  },
  {
   "cell_type": "markdown",
   "id": "301b9be8-9b6f-4ea8-b47d-ab4fd27fc8a7",
   "metadata": {},
   "source": [
    "   "
   ]
  },
  {
   "cell_type": "markdown",
   "id": "b050db3d-a9cc-41f1-8777-d911173462f5",
   "metadata": {},
   "source": [
    "                                                      GENERATING INSIGHTS"
   ]
  },
  {
   "cell_type": "markdown",
   "id": "877ce28a-e522-4b55-8821-af6fc181902f",
   "metadata": {},
   "source": [
    "1) Average Purchase Price"
   ]
  },
  {
   "cell_type": "code",
   "execution_count": 8,
   "id": "d681298c-5383-4a8d-a94d-209ee32af393",
   "metadata": {},
   "outputs": [
    {
     "name": "stdout",
     "output_type": "stream",
     "text": [
      "Average Purchase Price: $50.35\n"
     ]
    }
   ],
   "source": [
    "avg_purchase_price = df_cleaned['Purchase Price'].mean()\n",
    "print(f\"Average Purchase Price: ${avg_purchase_price:.2f}\")"
   ]
  },
  {
   "cell_type": "markdown",
   "id": "b5c1b3b8-237f-4177-a2dc-5301bede63dc",
   "metadata": {},
   "source": [
    "2) Most Common Language"
   ]
  },
  {
   "cell_type": "code",
   "execution_count": 9,
   "id": "8ab2b053-7d94-49f4-ab23-c3db6685060c",
   "metadata": {},
   "outputs": [
    {
     "name": "stdout",
     "output_type": "stream",
     "text": [
      "Most Common Language: de\n"
     ]
    }
   ],
   "source": [
    "top_language = df_cleaned['Language'].value_counts().idxmax()\n",
    "print(f\"Most Common Language: {top_language}\")"
   ]
  },
  {
   "cell_type": "markdown",
   "id": "dedb8018-ed42-4fcc-9a69-b713cbd12510",
   "metadata": {},
   "source": [
    "3) Top 5 Companies by Avg purchase price"
   ]
  },
  {
   "cell_type": "code",
   "execution_count": 10,
   "id": "962590e9-522a-43ae-87b4-4c45212e79b1",
   "metadata": {},
   "outputs": [
    {
     "name": "stdout",
     "output_type": "stream",
     "text": [
      "\n",
      "Top 5 Companies by Avg. Purchase Price:\n",
      "Company\n",
      "Pitts Group                  99.99\n",
      "Porter, Johnson and Pratt    99.99\n",
      "Olson-Navarro                99.97\n",
      "Fitzpatrick Group            99.95\n",
      "Bond-Oconnor                 99.92\n",
      "Name: Purchase Price, dtype: float64\n"
     ]
    }
   ],
   "source": [
    "top_companies = df_cleaned.groupby('Company')['Purchase Price'].mean().sort_values(ascending=False).head(5)\n",
    "print(\"\\nTop 5 Companies by Avg. Purchase Price:\")\n",
    "print(top_companies)"
   ]
  },
  {
   "cell_type": "markdown",
   "id": "9535c37e-649b-45ce-b4ed-1805583912cc",
   "metadata": {},
   "source": [
    "4) Most common job title"
   ]
  },
  {
   "cell_type": "code",
   "execution_count": 11,
   "id": "918158f8-1229-4389-964d-91cf06b04eec",
   "metadata": {},
   "outputs": [
    {
     "name": "stdout",
     "output_type": "stream",
     "text": [
      "\n",
      "Most Common Job Title: Interior and spatial designer\n"
     ]
    }
   ],
   "source": [
    "top_job = df_cleaned['Job'].value_counts().idxmax()\n",
    "print(f\"\\nMost Common Job Title: {top_job}\")"
   ]
  },
  {
   "cell_type": "markdown",
   "id": "458429dd-fd5a-4bec-8445-137bf5338e08",
   "metadata": {},
   "source": [
    "5) Distribution of AM/PM Purchases"
   ]
  },
  {
   "cell_type": "code",
   "execution_count": 13,
   "id": "074a148c-ae60-4e57-b81a-76d47c8a2ff0",
   "metadata": {},
   "outputs": [
    {
     "name": "stdout",
     "output_type": "stream",
     "text": [
      "\n",
      "AM vs PM Purchases:\n",
      "AM or PM\n",
      "PM    5068\n",
      "AM    4932\n",
      "Name: count, dtype: int64\n"
     ]
    }
   ],
   "source": [
    "ampm_counts = df_cleaned['AM or PM'].value_counts()\n",
    "print(\"\\nAM vs PM Purchases:\")\n",
    "print(ampm_counts)"
   ]
  },
  {
   "cell_type": "markdown",
   "id": "f18928c1-3539-493b-8249-99541008468a",
   "metadata": {},
   "source": [
    "6) Top 5 Credit card providers by Total Purchase price\n"
   ]
  },
  {
   "cell_type": "code",
   "execution_count": 14,
   "id": "fc170da1-2700-4900-9796-cc0cbb37d170",
   "metadata": {},
   "outputs": [
    {
     "name": "stdout",
     "output_type": "stream",
     "text": [
      "\n",
      "Top 5 Credit Card Providers by Total Purchase Value:\n",
      "CC Provider\n",
      "VISA 16 digit       85528.86\n",
      "JCB 16 digit        84597.33\n",
      "JCB 15 digit        44376.60\n",
      "Voyager             43085.77\n",
      "American Express    42865.52\n",
      "Name: Purchase Price, dtype: float64\n"
     ]
    }
   ],
   "source": [
    "top_cc_providers = df_cleaned.groupby('CC Provider')['Purchase Price'].sum().sort_values(ascending=False).head(5)\n",
    "print(\"\\nTop 5 Credit Card Providers by Total Purchase Value:\")\n",
    "print(top_cc_providers)"
   ]
  },
  {
   "cell_type": "code",
   "execution_count": null,
   "id": "d9510d5f-7c43-426d-b9c5-b7f3892649df",
   "metadata": {},
   "outputs": [],
   "source": []
  }
 ],
 "metadata": {
  "kernelspec": {
   "display_name": "Python 3 (ipykernel)",
   "language": "python",
   "name": "python3"
  },
  "language_info": {
   "codemirror_mode": {
    "name": "ipython",
    "version": 3
   },
   "file_extension": ".py",
   "mimetype": "text/x-python",
   "name": "python",
   "nbconvert_exporter": "python",
   "pygments_lexer": "ipython3",
   "version": "3.13.5"
  }
 },
 "nbformat": 4,
 "nbformat_minor": 5
}
