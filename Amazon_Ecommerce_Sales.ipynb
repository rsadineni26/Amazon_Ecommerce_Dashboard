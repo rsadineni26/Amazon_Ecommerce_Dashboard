{
 "cells": [
  {
   "cell_type": "code",
   "execution_count": 3,
   "id": "895fd3b7-c07a-4d31-b10f-9db0bb84a85e",
   "metadata": {},
   "outputs": [],
   "source": [
    "import pandas as pd\n",
    "import numpy as np"
   ]
  },
  {
   "cell_type": "code",
   "execution_count": 7,
   "id": "7c838426-ef89-467a-96ca-89587e1d0e7c",
   "metadata": {},
   "outputs": [
    {
     "data": {
      "text/html": [
       "<div>\n",
       "<style scoped>\n",
       "    .dataframe tbody tr th:only-of-type {\n",
       "        vertical-align: middle;\n",
       "    }\n",
       "\n",
       "    .dataframe tbody tr th {\n",
       "        vertical-align: top;\n",
       "    }\n",
       "\n",
       "    .dataframe thead th {\n",
       "        text-align: right;\n",
       "    }\n",
       "</style>\n",
       "<table border=\"1\" class=\"dataframe\">\n",
       "  <thead>\n",
       "    <tr style=\"text-align: right;\">\n",
       "      <th></th>\n",
       "      <th>Address</th>\n",
       "      <th>Lot</th>\n",
       "      <th>AM or PM</th>\n",
       "      <th>Browser Info</th>\n",
       "      <th>Company</th>\n",
       "      <th>Credit Card</th>\n",
       "      <th>CC Exp Date</th>\n",
       "      <th>CC Security Code</th>\n",
       "      <th>CC Provider</th>\n",
       "      <th>Email</th>\n",
       "      <th>Job</th>\n",
       "      <th>IP Address</th>\n",
       "      <th>Language</th>\n",
       "      <th>Purchase Price</th>\n",
       "    </tr>\n",
       "  </thead>\n",
       "  <tbody>\n",
       "    <tr>\n",
       "      <th>0</th>\n",
       "      <td>16629 Pace Camp Apt. 448\\r\\nAlexisborough, NE ...</td>\n",
       "      <td>46 in</td>\n",
       "      <td>PM</td>\n",
       "      <td>Opera/9.56.(X11; Linux x86_64; sl-SI) Presto/2...</td>\n",
       "      <td>Martinez-Herman</td>\n",
       "      <td>6.010000e+15</td>\n",
       "      <td>02/20/22</td>\n",
       "      <td>900</td>\n",
       "      <td>JCB 16 digit</td>\n",
       "      <td>pdunlap@yahoo.com</td>\n",
       "      <td>Scientist, product/process development</td>\n",
       "      <td>149.146.147.205</td>\n",
       "      <td>el</td>\n",
       "      <td>98.14</td>\n",
       "    </tr>\n",
       "    <tr>\n",
       "      <th>1</th>\n",
       "      <td>9374 Jasmine Spurs Suite 508\\r\\nSouth John, TN...</td>\n",
       "      <td>28 rn</td>\n",
       "      <td>PM</td>\n",
       "      <td>Opera/8.93.(Windows 98; Win 9x 4.90; en-US) Pr...</td>\n",
       "      <td>Fletcher, Richards and Whitaker</td>\n",
       "      <td>3.340000e+15</td>\n",
       "      <td>11/18/22</td>\n",
       "      <td>561</td>\n",
       "      <td>Mastercard</td>\n",
       "      <td>anthony41@reed.com</td>\n",
       "      <td>Drilling engineer</td>\n",
       "      <td>15.160.41.51</td>\n",
       "      <td>fr</td>\n",
       "      <td>70.73</td>\n",
       "    </tr>\n",
       "    <tr>\n",
       "      <th>2</th>\n",
       "      <td>Unit 0065 Box 5052\\r\\nDPO AP 27450</td>\n",
       "      <td>94 vE</td>\n",
       "      <td>PM</td>\n",
       "      <td>Mozilla/5.0 (compatible; MSIE 9.0; Windows NT ...</td>\n",
       "      <td>Simpson, Williams and Pham</td>\n",
       "      <td>6.760000e+11</td>\n",
       "      <td>08/19/22</td>\n",
       "      <td>699</td>\n",
       "      <td>JCB 16 digit</td>\n",
       "      <td>amymiller@morales-harrison.com</td>\n",
       "      <td>Customer service manager</td>\n",
       "      <td>132.207.160.22</td>\n",
       "      <td>de</td>\n",
       "      <td>0.95</td>\n",
       "    </tr>\n",
       "    <tr>\n",
       "      <th>3</th>\n",
       "      <td>7780 Julia Fords\\r\\nNew Stacy, WA 45798</td>\n",
       "      <td>36 vm</td>\n",
       "      <td>PM</td>\n",
       "      <td>Mozilla/5.0 (Macintosh; Intel Mac OS X 10_8_0 ...</td>\n",
       "      <td>Williams, Marshall and Buchanan</td>\n",
       "      <td>6.010000e+15</td>\n",
       "      <td>02/24/22</td>\n",
       "      <td>384</td>\n",
       "      <td>Discover</td>\n",
       "      <td>brent16@olson-robinson.info</td>\n",
       "      <td>Drilling engineer</td>\n",
       "      <td>30.250.74.19</td>\n",
       "      <td>es</td>\n",
       "      <td>78.04</td>\n",
       "    </tr>\n",
       "    <tr>\n",
       "      <th>4</th>\n",
       "      <td>23012 Munoz Drive Suite 337\\r\\nNew Cynthia, TX...</td>\n",
       "      <td>20 IE</td>\n",
       "      <td>AM</td>\n",
       "      <td>Opera/9.58.(X11; Linux x86_64; it-IT) Presto/2...</td>\n",
       "      <td>Brown, Watson and Andrews</td>\n",
       "      <td>6.010000e+15</td>\n",
       "      <td>10/25/22</td>\n",
       "      <td>678</td>\n",
       "      <td>Diners Club / Carte Blanche</td>\n",
       "      <td>christopherwright@gmail.com</td>\n",
       "      <td>Fine artist</td>\n",
       "      <td>24.140.33.94</td>\n",
       "      <td>es</td>\n",
       "      <td>77.82</td>\n",
       "    </tr>\n",
       "  </tbody>\n",
       "</table>\n",
       "</div>"
      ],
      "text/plain": [
       "                                             Address    Lot AM or PM  \\\n",
       "0  16629 Pace Camp Apt. 448\\r\\nAlexisborough, NE ...  46 in       PM   \n",
       "1  9374 Jasmine Spurs Suite 508\\r\\nSouth John, TN...  28 rn       PM   \n",
       "2                 Unit 0065 Box 5052\\r\\nDPO AP 27450  94 vE       PM   \n",
       "3            7780 Julia Fords\\r\\nNew Stacy, WA 45798  36 vm       PM   \n",
       "4  23012 Munoz Drive Suite 337\\r\\nNew Cynthia, TX...  20 IE       AM   \n",
       "\n",
       "                                        Browser Info  \\\n",
       "0  Opera/9.56.(X11; Linux x86_64; sl-SI) Presto/2...   \n",
       "1  Opera/8.93.(Windows 98; Win 9x 4.90; en-US) Pr...   \n",
       "2  Mozilla/5.0 (compatible; MSIE 9.0; Windows NT ...   \n",
       "3  Mozilla/5.0 (Macintosh; Intel Mac OS X 10_8_0 ...   \n",
       "4  Opera/9.58.(X11; Linux x86_64; it-IT) Presto/2...   \n",
       "\n",
       "                           Company   Credit Card CC Exp Date  \\\n",
       "0                  Martinez-Herman  6.010000e+15    02/20/22   \n",
       "1  Fletcher, Richards and Whitaker  3.340000e+15    11/18/22   \n",
       "2       Simpson, Williams and Pham  6.760000e+11    08/19/22   \n",
       "3  Williams, Marshall and Buchanan  6.010000e+15    02/24/22   \n",
       "4        Brown, Watson and Andrews  6.010000e+15    10/25/22   \n",
       "\n",
       "   CC Security Code                  CC Provider  \\\n",
       "0               900                 JCB 16 digit   \n",
       "1               561                   Mastercard   \n",
       "2               699                 JCB 16 digit   \n",
       "3               384                     Discover   \n",
       "4               678  Diners Club / Carte Blanche   \n",
       "\n",
       "                            Email                                     Job  \\\n",
       "0               pdunlap@yahoo.com  Scientist, product/process development   \n",
       "1              anthony41@reed.com                       Drilling engineer   \n",
       "2  amymiller@morales-harrison.com                Customer service manager   \n",
       "3     brent16@olson-robinson.info                       Drilling engineer   \n",
       "4     christopherwright@gmail.com                             Fine artist   \n",
       "\n",
       "        IP Address Language  Purchase Price  \n",
       "0  149.146.147.205       el           98.14  \n",
       "1     15.160.41.51       fr           70.73  \n",
       "2   132.207.160.22       de            0.95  \n",
       "3     30.250.74.19       es           78.04  \n",
       "4     24.140.33.94       es           77.82  "
      ]
     },
     "execution_count": 7,
     "metadata": {},
     "output_type": "execute_result"
    }
   ],
   "source": [
    "df = pd.read_csv('Ecommerce_Purchases.csv')\n",
    "df.head()"
   ]
  },
  {
   "cell_type": "code",
   "execution_count": 9,
   "id": "35f865c1-9fa5-4278-88da-e00b06e02a82",
   "metadata": {},
   "outputs": [
    {
     "name": "stdout",
     "output_type": "stream",
     "text": [
      "<class 'pandas.core.frame.DataFrame'>\n",
      "RangeIndex: 10000 entries, 0 to 9999\n",
      "Data columns (total 14 columns):\n",
      " #   Column            Non-Null Count  Dtype  \n",
      "---  ------            --------------  -----  \n",
      " 0   Address           10000 non-null  object \n",
      " 1   Lot               10000 non-null  object \n",
      " 2   AM or PM          10000 non-null  object \n",
      " 3   Browser Info      10000 non-null  object \n",
      " 4   Company           10000 non-null  object \n",
      " 5   Credit Card       10000 non-null  float64\n",
      " 6   CC Exp Date       10000 non-null  object \n",
      " 7   CC Security Code  10000 non-null  int64  \n",
      " 8   CC Provider       10000 non-null  object \n",
      " 9   Email             10000 non-null  object \n",
      " 10  Job               10000 non-null  object \n",
      " 11  IP Address        10000 non-null  object \n",
      " 12  Language          10000 non-null  object \n",
      " 13  Purchase Price    10000 non-null  float64\n",
      "dtypes: float64(2), int64(1), object(11)\n",
      "memory usage: 1.1+ MB\n"
     ]
    }
   ],
   "source": [
    "df.info()"
   ]
  },
  {
   "cell_type": "markdown",
   "id": "7e4bb9d6-2d25-45ac-8738-e1d6c19a6afc",
   "metadata": {},
   "source": [
    "               "
   ]
  },
  {
   "cell_type": "markdown",
   "id": "debae9ff-dd77-42b4-a48c-403523971738",
   "metadata": {},
   "source": [
    "1) What is the Average Purchase Price ?"
   ]
  },
  {
   "cell_type": "code",
   "execution_count": 10,
   "id": "62f4e1a1-0034-4c8d-8ff5-f58fce17f048",
   "metadata": {},
   "outputs": [
    {
     "data": {
      "text/plain": [
       "np.float64(50.347302)"
      ]
     },
     "execution_count": 10,
     "metadata": {},
     "output_type": "execute_result"
    }
   ],
   "source": [
    "df['Purchase Price'].mean()"
   ]
  },
  {
   "cell_type": "markdown",
   "id": "f596dacc-56ec-4a13-9e3a-21fcae92668a",
   "metadata": {},
   "source": [
    "    "
   ]
  },
  {
   "cell_type": "markdown",
   "id": "4f9da860-b9fb-4244-ae6d-317342c93416",
   "metadata": {},
   "source": [
    "2) What is the least Purchase Price?"
   ]
  },
  {
   "cell_type": "code",
   "execution_count": 12,
   "id": "085cf398-f669-4c87-bde1-a3369750f57d",
   "metadata": {},
   "outputs": [
    {
     "data": {
      "text/plain": [
       "0.0"
      ]
     },
     "execution_count": 12,
     "metadata": {},
     "output_type": "execute_result"
    }
   ],
   "source": [
    "df['Purchase Price'].min()"
   ]
  },
  {
   "cell_type": "markdown",
   "id": "031a1a02-804c-41c3-bd0c-b7c6edd6422b",
   "metadata": {},
   "source": [
    "    "
   ]
  },
  {
   "cell_type": "markdown",
   "id": "512344f5-e031-4f2a-8e33-8a59c36c2582",
   "metadata": {},
   "source": [
    "3) What is the highest Purchase Price?"
   ]
  },
  {
   "cell_type": "code",
   "execution_count": 13,
   "id": "37e0c8e9-b808-4661-89ed-65540fd25657",
   "metadata": {},
   "outputs": [
    {
     "data": {
      "text/plain": [
       "99.99"
      ]
     },
     "execution_count": 13,
     "metadata": {},
     "output_type": "execute_result"
    }
   ],
   "source": [
    "df['Purchase Price'].max()"
   ]
  },
  {
   "cell_type": "markdown",
   "id": "37ba7c90-775b-4e0d-9800-5e5bae4f5bff",
   "metadata": {},
   "source": [
    "    "
   ]
  },
  {
   "cell_type": "markdown",
   "id": "eb2deed4-d747-4c98-b8f9-b2821932a3bf",
   "metadata": {},
   "source": [
    "4) Number of rows present in dataset..."
   ]
  },
  {
   "cell_type": "code",
   "execution_count": 14,
   "id": "9d6fc369-5366-4139-a9bf-7aa1eb5514c6",
   "metadata": {},
   "outputs": [
    {
     "data": {
      "text/plain": [
       "10000"
      ]
     },
     "execution_count": 14,
     "metadata": {},
     "output_type": "execute_result"
    }
   ],
   "source": [
    "len(df)"
   ]
  },
  {
   "cell_type": "markdown",
   "id": "ec7d130c-62c1-42b0-8732-4f81b83073ec",
   "metadata": {},
   "source": [
    "   "
   ]
  },
  {
   "cell_type": "markdown",
   "id": "4a53c88d-95ee-4a2f-ada7-528abd6ba996",
   "metadata": {},
   "source": [
    "5) Number of columns in dataset..."
   ]
  },
  {
   "cell_type": "code",
   "execution_count": 16,
   "id": "8f589e32-f54a-48e9-b9ee-aa286fafb78c",
   "metadata": {},
   "outputs": [
    {
     "data": {
      "text/plain": [
       "14"
      ]
     },
     "execution_count": 16,
     "metadata": {},
     "output_type": "execute_result"
    }
   ],
   "source": [
    "len(df.columns)"
   ]
  },
  {
   "cell_type": "markdown",
   "id": "3c44a0cc-0aaa-4f7f-9ff5-3ce3a5aaa0f2",
   "metadata": {},
   "source": [
    "   "
   ]
  },
  {
   "cell_type": "markdown",
   "id": "d02ecc42-e71e-43a3-b0cd-bc1dcb020b36",
   "metadata": {},
   "source": [
    "6) Languages present in dataset"
   ]
  },
  {
   "cell_type": "code",
   "execution_count": 18,
   "id": "a3eb6710-3c47-44a4-be90-f9a81436ffb8",
   "metadata": {},
   "outputs": [
    {
     "data": {
      "text/plain": [
       "0       el\n",
       "1       fr\n",
       "2       de\n",
       "3       es\n",
       "4       es\n",
       "        ..\n",
       "9995    it\n",
       "9996    pt\n",
       "9997    el\n",
       "9998    es\n",
       "9999    el\n",
       "Name: Language, Length: 10000, dtype: object"
      ]
     },
     "execution_count": 18,
     "metadata": {},
     "output_type": "execute_result"
    }
   ],
   "source": [
    "df['Language']"
   ]
  },
  {
   "cell_type": "markdown",
   "id": "56a96321-dc0d-4ad7-ba08-1adb33bc98e1",
   "metadata": {},
   "source": [
    "   "
   ]
  },
  {
   "cell_type": "markdown",
   "id": "0e79312c-3b87-41b8-8303-403b7acb3780",
   "metadata": {},
   "source": [
    "7) How many people choose English language on the website?"
   ]
  },
  {
   "cell_type": "code",
   "execution_count": 19,
   "id": "415d6870-fdb0-4d22-b59d-4b83e9872fe2",
   "metadata": {},
   "outputs": [
    {
     "data": {
      "text/plain": [
       "Email    1098\n",
       "Name: en, dtype: int64"
      ]
     },
     "execution_count": 19,
     "metadata": {},
     "output_type": "execute_result"
    }
   ],
   "source": [
    "df.groupby('Language').count()[['Email']].loc['en']"
   ]
  },
  {
   "cell_type": "code",
   "execution_count": 20,
   "id": "3267c0d8-e8f5-4747-8b04-d1b139e0e7b3",
   "metadata": {},
   "outputs": [
    {
     "data": {
      "text/plain": [
       "np.int64(1098)"
      ]
     },
     "execution_count": 20,
     "metadata": {},
     "output_type": "execute_result"
    }
   ],
   "source": [
    "df[df['Language'] == 'en'].count()['Email']"
   ]
  },
  {
   "cell_type": "markdown",
   "id": "23d9c468-f66d-49f0-ad1a-32478900a55c",
   "metadata": {},
   "source": [
    "    "
   ]
  },
  {
   "cell_type": "markdown",
   "id": "81a1482d-14d0-4cd5-91fc-59bd7e927082",
   "metadata": {},
   "source": [
    "8) How many people have job title of \"lawyer\"?"
   ]
  },
  {
   "cell_type": "code",
   "execution_count": 21,
   "id": "a68e5e61-e074-4a2e-9ef1-d8605e0a2f9b",
   "metadata": {},
   "outputs": [
    {
     "data": {
      "text/plain": [
       "np.int64(30)"
      ]
     },
     "execution_count": 21,
     "metadata": {},
     "output_type": "execute_result"
    }
   ],
   "source": [
    "df[df['Job'] == 'Lawyer']['Email'].count()"
   ]
  },
  {
   "cell_type": "markdown",
   "id": "c88e161d-7dab-4a05-8714-dc14cca0b9e0",
   "metadata": {},
   "source": [
    "   "
   ]
  },
  {
   "cell_type": "markdown",
   "id": "0f9281a5-2604-4b6a-a6d7-9f144c16c35a",
   "metadata": {},
   "source": [
    "9) How many people made the purchase during the AM and how many people made the purchase during PM ?"
   ]
  },
  {
   "cell_type": "code",
   "execution_count": 22,
   "id": "9c100a87-d2d4-4c65-8353-51058e5bcf52",
   "metadata": {},
   "outputs": [],
   "source": [
    "df.columns = df.columns.str.lower().str.strip().str.replace(' ','_')\n"
   ]
  },
  {
   "cell_type": "code",
   "execution_count": 23,
   "id": "04ab31d1-e1b5-4e7e-87ec-6d025c8e4662",
   "metadata": {},
   "outputs": [
    {
     "data": {
      "text/plain": [
       "Index(['address', 'lot', 'am_or_pm', 'browser_info', 'company', 'credit_card',\n",
       "       'cc_exp_date', 'cc_security_code', 'cc_provider', 'email', 'job',\n",
       "       'ip_address', 'language', 'purchase_price'],\n",
       "      dtype='object')"
      ]
     },
     "execution_count": 23,
     "metadata": {},
     "output_type": "execute_result"
    }
   ],
   "source": [
    "df.columns"
   ]
  },
  {
   "cell_type": "code",
   "execution_count": 24,
   "id": "9ee3b1c3-8fe7-4dad-a93e-146bf467c04b",
   "metadata": {},
   "outputs": [
    {
     "data": {
      "text/plain": [
       "am_or_pm\n",
       "PM    5068\n",
       "AM    4932\n",
       "Name: email, dtype: int64"
      ]
     },
     "execution_count": 24,
     "metadata": {},
     "output_type": "execute_result"
    }
   ],
   "source": [
    "df.groupby('am_or_pm').count()['email'].sort_values(ascending=False)"
   ]
  },
  {
   "cell_type": "code",
   "execution_count": 25,
   "id": "96e66552-e8ce-4a60-8737-2584f094152e",
   "metadata": {},
   "outputs": [
    {
     "data": {
      "text/plain": [
       "am_or_pm\n",
       "PM    5068\n",
       "AM    4932\n",
       "Name: count, dtype: int64"
      ]
     },
     "execution_count": 25,
     "metadata": {},
     "output_type": "execute_result"
    }
   ],
   "source": [
    "df['am_or_pm'].value_counts()"
   ]
  },
  {
   "cell_type": "markdown",
   "id": "d9026ad0-e427-4fb5-bf92-51a08015d8db",
   "metadata": {},
   "source": [
    "   "
   ]
  },
  {
   "cell_type": "markdown",
   "id": "007dba3c-d578-49d6-bdcf-9095784881ad",
   "metadata": {},
   "source": [
    "10) what are 5 most common Job Titles?"
   ]
  },
  {
   "cell_type": "code",
   "execution_count": 26,
   "id": "4382a591-68d6-4b99-82aa-fbd2e2a94dd0",
   "metadata": {},
   "outputs": [
    {
     "data": {
      "text/plain": [
       "job\n",
       "Interior and spatial designer        31\n",
       "Lawyer                               30\n",
       "Social researcher                    28\n",
       "Research officer, political party    27\n",
       "Designer, jewellery                  27\n",
       "Name: email, dtype: int64"
      ]
     },
     "execution_count": 26,
     "metadata": {},
     "output_type": "execute_result"
    }
   ],
   "source": [
    "df.groupby('job').count()['email'].sort_values( ascending=False).head(5)"
   ]
  },
  {
   "cell_type": "markdown",
   "id": "8ea59a38-e2ca-4f6e-bad9-bb2acb3a3c3c",
   "metadata": {},
   "source": [
    "  "
   ]
  },
  {
   "cell_type": "markdown",
   "id": "22c5a464-0d81-442e-9502-d9c4c15a71fc",
   "metadata": {},
   "source": [
    "11) what are 5 least Job Titles?"
   ]
  },
  {
   "cell_type": "code",
   "execution_count": 28,
   "id": "75b837bd-f8e0-4f1a-9acb-10ebb4a83bef",
   "metadata": {},
   "outputs": [
    {
     "data": {
      "text/plain": [
       "job\n",
       "Investment analyst             5\n",
       "Information systems manager    5\n",
       "Editor, film/video             6\n",
       "Actuary                        6\n",
       "Stage manager                  7\n",
       "Name: count, dtype: int64"
      ]
     },
     "execution_count": 28,
     "metadata": {},
     "output_type": "execute_result"
    }
   ],
   "source": [
    "df['job'].value_counts().sort_values(ascending=True).head(5)"
   ]
  },
  {
   "cell_type": "markdown",
   "id": "78f51cda-2f1d-465c-bf72-dce1e0de7d98",
   "metadata": {},
   "source": [
    "   "
   ]
  },
  {
   "cell_type": "markdown",
   "id": "774ba17a-7fda-44b0-8945-dff56972531b",
   "metadata": {},
   "source": [
    "12) what was the Purchase Price made from Lot: \"90 WT\" ?"
   ]
  },
  {
   "cell_type": "code",
   "execution_count": 29,
   "id": "974ec3be-390e-4f27-9a3b-c8226eef433d",
   "metadata": {},
   "outputs": [
    {
     "data": {
      "text/html": [
       "<div>\n",
       "<style scoped>\n",
       "    .dataframe tbody tr th:only-of-type {\n",
       "        vertical-align: middle;\n",
       "    }\n",
       "\n",
       "    .dataframe tbody tr th {\n",
       "        vertical-align: top;\n",
       "    }\n",
       "\n",
       "    .dataframe thead th {\n",
       "        text-align: right;\n",
       "    }\n",
       "</style>\n",
       "<table border=\"1\" class=\"dataframe\">\n",
       "  <thead>\n",
       "    <tr style=\"text-align: right;\">\n",
       "      <th></th>\n",
       "      <th>lot</th>\n",
       "      <th>purchase_price</th>\n",
       "    </tr>\n",
       "  </thead>\n",
       "  <tbody>\n",
       "    <tr>\n",
       "      <th>513</th>\n",
       "      <td>90 WT</td>\n",
       "      <td>75.1</td>\n",
       "    </tr>\n",
       "  </tbody>\n",
       "</table>\n",
       "</div>"
      ],
      "text/plain": [
       "       lot  purchase_price\n",
       "513  90 WT            75.1"
      ]
     },
     "execution_count": 29,
     "metadata": {},
     "output_type": "execute_result"
    }
   ],
   "source": [
    "df[df['lot'] == '90 WT'][['lot','purchase_price']]"
   ]
  },
  {
   "cell_type": "markdown",
   "id": "0408d9c4-221a-41ee-b088-0c8fa214f6e7",
   "metadata": {},
   "source": [
    "   "
   ]
  },
  {
   "cell_type": "markdown",
   "id": "1fc3fb98-c64b-44c9-a926-8700f10cd391",
   "metadata": {},
   "source": [
    "13) Number of people having \"Engineer\" in their job title?"
   ]
  },
  {
   "cell_type": "code",
   "execution_count": 35,
   "id": "b031c324-8135-4a63-a1e1-25e7b644b05f",
   "metadata": {},
   "outputs": [
    {
     "data": {
      "text/plain": [
       "984"
      ]
     },
     "execution_count": 35,
     "metadata": {},
     "output_type": "execute_result"
    }
   ],
   "source": [
    "len(df[df['job'].str.contains('engineer',case=False)])"
   ]
  },
  {
   "cell_type": "markdown",
   "id": "5cf4741e-3991-439a-a5b7-2bdd358b412d",
   "metadata": {},
   "source": [
    "  "
   ]
  },
  {
   "cell_type": "markdown",
   "id": "2082b2a9-bd2a-47d8-b891-27eca88cfc24",
   "metadata": {},
   "source": [
    "14) Find Email of The Person With The Following IP Address : 132.207.160.22 ?"
   ]
  },
  {
   "cell_type": "code",
   "execution_count": 38,
   "id": "53ed5253-75ee-4c79-8889-0182c7067a5f",
   "metadata": {},
   "outputs": [
    {
     "data": {
      "text/plain": [
       "2    amymiller@morales-harrison.com\n",
       "Name: email, dtype: object"
      ]
     },
     "execution_count": 38,
     "metadata": {},
     "output_type": "execute_result"
    }
   ],
   "source": [
    "df[df['ip_address']==\"132.207.160.22\"]['email']"
   ]
  },
  {
   "cell_type": "markdown",
   "id": "ff62bfdc-a4cc-42ed-9149-ddd752b0c601",
   "metadata": {},
   "source": [
    "  "
   ]
  },
  {
   "cell_type": "markdown",
   "id": "7e4199f0-c342-471c-9c33-bfc78f9616d4",
   "metadata": {},
   "source": [
    "15) How many people have American Express as their Credit Card Provider and made a purchase above 95 $ ?"
   ]
  },
  {
   "cell_type": "code",
   "execution_count": 42,
   "id": "b4d158fa-70f1-4b11-ae8d-41c586d2a6e7",
   "metadata": {},
   "outputs": [
    {
     "data": {
      "text/plain": [
       "np.int64(39)"
      ]
     },
     "execution_count": 42,
     "metadata": {},
     "output_type": "execute_result"
    }
   ],
   "source": [
    "df[(df['cc_provider'] == 'American Express') & (df['purchase_price'] > 95)].count()['email']"
   ]
  },
  {
   "cell_type": "markdown",
   "id": "2bb4f57f-b998-4d9d-9065-d7e50c3bdaf3",
   "metadata": {},
   "source": [
    "   "
   ]
  },
  {
   "cell_type": "markdown",
   "id": "78d28ccb-490d-47e5-9d1e-77e6e3075b1b",
   "metadata": {},
   "source": [
    "16) What are the top 5 Most Popular Email providers(e.g. gmail.cpm, yahoo.com, etc..)"
   ]
  },
  {
   "cell_type": "code",
   "execution_count": 43,
   "id": "d6796fd6-725e-47bb-9394-455023737fd0",
   "metadata": {},
   "outputs": [
    {
     "data": {
      "text/plain": [
       "email\n",
       "hotmail.com     1638\n",
       "yahoo.com       1616\n",
       "gmail.com       1605\n",
       "smith.com         42\n",
       "williams.com      37\n",
       "Name: count, dtype: int64"
      ]
     },
     "execution_count": 43,
     "metadata": {},
     "output_type": "execute_result"
    }
   ],
   "source": [
    "df['email'].apply(lambda x:x.split('@')[1]).value_counts().head()"
   ]
  },
  {
   "cell_type": "markdown",
   "id": "ced51a83-efda-4737-8400-fe17a83f125b",
   "metadata": {},
   "source": [
    "  "
   ]
  },
  {
   "cell_type": "markdown",
   "id": "b259d28a-f532-4ed4-884f-719af234f6f2",
   "metadata": {},
   "source": [
    "17) How many people have a credit card that expires in 2025?"
   ]
  },
  {
   "cell_type": "code",
   "execution_count": 44,
   "id": "981ebf9a-22dd-4ce1-88da-f3f4e32a1e5f",
   "metadata": {},
   "outputs": [
    {
     "data": {
      "text/plain": [
       "0       02/20/22\n",
       "1       11/18/22\n",
       "2       08/19/22\n",
       "3       02/24/22\n",
       "4       10/25/22\n",
       "          ...   \n",
       "9995    03/22/22\n",
       "9996    07/25/22\n",
       "9997    05/21/22\n",
       "9998    11/17/22\n",
       "9999    02/19/22\n",
       "Name: cc_exp_date, Length: 10000, dtype: object"
      ]
     },
     "execution_count": 44,
     "metadata": {},
     "output_type": "execute_result"
    }
   ],
   "source": [
    "df['cc_exp_date']"
   ]
  },
  {
   "cell_type": "code",
   "execution_count": 48,
   "id": "c8b40e37-0082-4b8a-8a0f-20eb4f30bb48",
   "metadata": {},
   "outputs": [
    {
     "data": {
      "text/plain": [
       "np.int64(85)"
      ]
     },
     "execution_count": 48,
     "metadata": {},
     "output_type": "execute_result"
    }
   ],
   "source": [
    "df['cc_exp_date'].isin(['07/25/22']).sum()"
   ]
  },
  {
   "cell_type": "code",
   "execution_count": 52,
   "id": "7a73465f-091f-4036-8957-5cadf742454b",
   "metadata": {},
   "outputs": [
    {
     "data": {
      "text/plain": [
       "1033"
      ]
     },
     "execution_count": 52,
     "metadata": {},
     "output_type": "execute_result"
    }
   ],
   "source": [
    "sum(df['cc_exp_date'].apply(lambda x: x.split('/')[1]) == '25')"
   ]
  },
  {
   "cell_type": "code",
   "execution_count": null,
   "id": "09f73554-75a7-4c89-8c62-aacd04cc9ca8",
   "metadata": {},
   "outputs": [],
   "source": []
  }
 ],
 "metadata": {
  "kernelspec": {
   "display_name": "Python 3 (ipykernel)",
   "language": "python",
   "name": "python3"
  },
  "language_info": {
   "codemirror_mode": {
    "name": "ipython",
    "version": 3
   },
   "file_extension": ".py",
   "mimetype": "text/x-python",
   "name": "python",
   "nbconvert_exporter": "python",
   "pygments_lexer": "ipython3",
   "version": "3.13.5"
  }
 },
 "nbformat": 4,
 "nbformat_minor": 5
}
